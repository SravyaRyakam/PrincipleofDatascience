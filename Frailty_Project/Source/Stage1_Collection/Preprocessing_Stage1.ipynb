{
  "nbformat": 4,
  "nbformat_minor": 0,
  "metadata": {
    "colab": {
      "provenance": []
    },
    "kernelspec": {
      "name": "python3",
      "display_name": "Python 3"
    },
    "language_info": {
      "name": "python"
    }
  },
  "cells": [
    {
      "cell_type": "code",
      "execution_count": 9,
      "metadata": {
        "id": "tpLodQTAzPVi"
      },
      "outputs": [],
      "source": [
        "import pandas as pd\n",
        "\n",
        "# Load the raw data\n",
        "raw_data = pd.read_csv(\"/content/Frailty_Raw_Data.csv\")\n",
        "\n",
        "# Data cleaning and preprocessing\n",
        "# For example, remove duplicates\n",
        "cleaned_data = raw_data.drop_duplicates()\n",
        "\n",
        "# Convert grip strength from pounds to kilograms\n",
        "cleaned_data['Grip strength (kg)'] = cleaned_data['Gripstrength'] * 0.453592\n",
        "\n",
        "# Save the cleaned data\n",
        "cleaned_data.to_csv(\"Preprocess_data1.csv\", index=False)"
      ]
    },
    {
      "cell_type": "code",
      "source": [],
      "metadata": {
        "id": "XLsJwQ1E0TKo"
      },
      "execution_count": null,
      "outputs": []
    }
  ]
}