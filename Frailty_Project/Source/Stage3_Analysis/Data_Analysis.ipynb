{
  "cells": [
    {
      "cell_type": "code",
      "execution_count": 4,
      "id": "e4b45917",
      "metadata": {
        "colab": {
          "base_uri": "https://localhost:8080/"
        },
        "id": "e4b45917",
        "outputId": "1bec0672-4a82-47b4-8cc1-1e8e66fa3f21"
      },
      "outputs": [
        {
          "output_type": "stream",
          "name": "stdout",
          "text": [
            "t-statistic: 1.7920318220177764\n",
            "p-value: 0.11089488733773724\n",
            "There is no difference in grip strength between groups.\n"
          ]
        }
      ],
      "source": [
        "import pandas as pd\n",
        "import scipy.stats as stats\n",
        "\n",
        "enc_data = pd.read_csv(\"/content/Data.csv\")\n",
        "\n",
        "\n",
        "Fr_w1 = enc_data[enc_data['Frailty'] == 'Y']['Weight']\n",
        "Fr_w0 = enc_data[enc_data['Frailty'] == 'N']['Weight']\n",
        "\n",
        "t1_stat, p1_value = stats.ttest_ind(Fr_w1, Fr_w0)\n",
        "\n",
        "\n",
        "print(\"t-statistic:\", t1_stat)\n",
        "print(\"p-value:\", p1_value)\n",
        "\n",
        "alpha = 0.05\n",
        "if p1_value < alpha:\n",
        "    print(\"The difference in grip strength between groups.\")\n",
        "else:\n",
        "    print(\"There is no difference in grip strength between groups.\")\n"
      ]
    },
    {
      "cell_type": "code",
      "execution_count": null,
      "id": "1b6086a4",
      "metadata": {
        "id": "1b6086a4"
      },
      "outputs": [],
      "source": []
    }
  ],
  "metadata": {
    "kernelspec": {
      "display_name": "Python 3 (ipykernel)",
      "language": "python",
      "name": "python3"
    },
    "language_info": {
      "codemirror_mode": {
        "name": "ipython",
        "version": 3
      },
      "file_extension": ".py",
      "mimetype": "text/x-python",
      "name": "python",
      "nbconvert_exporter": "python",
      "pygments_lexer": "ipython3",
      "version": "3.9.16"
    },
    "colab": {
      "provenance": []
    }
  },
  "nbformat": 4,
  "nbformat_minor": 5
}