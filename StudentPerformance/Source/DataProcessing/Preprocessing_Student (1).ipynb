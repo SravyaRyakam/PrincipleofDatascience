{
  "nbformat": 4,
  "nbformat_minor": 0,
  "metadata": {
    "colab": {
      "provenance": []
    },
    "kernelspec": {
      "name": "python3",
      "display_name": "Python 3"
    },
    "language_info": {
      "name": "python"
    }
  },
  "cells": [
    {
      "cell_type": "code",
      "execution_count": 5,
      "metadata": {
        "colab": {
          "base_uri": "https://localhost:8080/"
        },
        "id": "S_5Vo1StabFp",
        "outputId": "3e0c7f36-b01d-4d1a-efb3-a1f4f04ab6eb"
      },
      "outputs": [
        {
          "output_type": "stream",
          "name": "stdout",
          "text": [
            "   gender race/ethnicity parental level of education test preparation course  \\\n",
            "0  female        group B           bachelor's degree                    none   \n",
            "1  female        group C                some college               completed   \n",
            "2  female        group B             master's degree                    none   \n",
            "3    male        group A          associate's degree                    none   \n",
            "4    male        group C                some college                    none   \n",
            "\n",
            "   math score  reading score  writing score  \n",
            "0          72             72             74  \n",
            "1          69             90             88  \n",
            "2          90             95             93  \n",
            "3          47             57             44  \n",
            "4          76             78             75  \n"
          ]
        }
      ],
      "source": [
        "import pandas as pd\n",
        "\n",
        "# Load the raw data\n",
        "raw_data = pd.read_csv(\"/content/student.csv\")\n",
        "\n",
        "# Droping the \"Lunch\" column\n",
        "updated_data = raw_data.drop(columns=['lunch'])\n",
        "\n",
        "# Verify that the \"Lunch\" column has been dropped\n",
        "print(updated_data.head())\n",
        "\n",
        "# Save the cleaned data\n",
        "updated_data.to_csv(\"Updated_data.csv\", index=False)\n",
        "\n"
      ]
    },
    {
      "cell_type": "code",
      "source": [],
      "metadata": {
        "id": "5MQVOrVVWeXw"
      },
      "execution_count": null,
      "outputs": []
    }
  ]
}